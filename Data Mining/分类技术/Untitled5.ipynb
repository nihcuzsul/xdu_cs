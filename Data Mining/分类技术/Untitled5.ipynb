{
 "cells": [
  {
   "cell_type": "code",
   "execution_count": 5,
   "metadata": {},
   "outputs": [],
   "source": [
    "import pandas as pd\n",
    "import numpy as np\n",
    "import matplotlib.pyplot as plt\n",
    "filename = \"Desktop/dm1/movie/ratings.dat\"  \n",
    "ratings = pd.read_csv(filename, header=None, sep=\"::\", names=[\"UserID\",  \"MovieID\",  \"Rating\",  \"Datetime\"], engine=\"python\")\n"
   ]
  },
  {
   "cell_type": "code",
   "execution_count": 52,
   "metadata": {},
   "outputs": [
    {
     "name": "stdout",
     "output_type": "stream",
     "text": [
      "   UserID  MovieID  Rating   Datetime\n",
      "0       1     1193       5  978300760\n",
      "1       1      661       3  978302109\n",
      "2       1      914       3  978301968\n",
      "3       1     3408       4  978300275\n",
      "4       1     2355       5  978824291\n"
     ]
    }
   ],
   "source": [
    "print(ratings.head()) #查看矩阵前五行"
   ]
  },
  {
   "cell_type": "code",
   "execution_count": 11,
   "metadata": {},
   "outputs": [],
   "source": []
  },
  {
   "cell_type": "code",
   "execution_count": 7,
   "metadata": {},
   "outputs": [
    {
     "name": "stdout",
     "output_type": "stream",
     "text": [
      "train_set_size = (900395, 4)\n",
      "test_set_size = (99814, 4)\n",
      "900395\n",
      "99814\n"
     ]
    }
   ],
   "source": [
    "mask=np.random.rand(len(ratings))<.9 #9:1分配训练测试集\n",
    "train_ratings=ratings[mask]\n",
    "test_ratings=ratings[~mask]\n",
    "print(\"train_set_size =\",train_ratings.shape)\n",
    "print(\"test_set_size =\",test_ratings.shape)\n",
    "print(len(train_ratings))\n",
    "print(len(test_ratings))"
   ]
  },
  {
   "cell_type": "code",
   "execution_count": null,
   "metadata": {},
   "outputs": [],
   "source": []
  },
  {
   "cell_type": "code",
   "execution_count": null,
   "metadata": {},
   "outputs": [],
   "source": []
  },
  {
   "cell_type": "code",
   "execution_count": 8,
   "metadata": {},
   "outputs": [],
   "source": [
    "#数据预处理\n",
    "users=ratings.UserID.unique()\n",
    "movies=ratings.MovieID.unique()\n",
    "uidx={uid: id for id,uid in enumerate(users)} #uidx=0-6039\n",
    "midx={mid: id for id,mid in enumerate(movies)} #0-3075\n",
    "M = len(users)             # 用户数量\n",
    "N = len(movies)  # 电影数量"
   ]
  },
  {
   "cell_type": "code",
   "execution_count": null,
   "metadata": {},
   "outputs": [],
   "source": []
  },
  {
   "cell_type": "code",
   "execution_count": 9,
   "metadata": {},
   "outputs": [
    {
     "name": "stdout",
     "output_type": "stream",
     "text": [
      "6040\n",
      "3706\n"
     ]
    }
   ],
   "source": [
    "print(M)\n",
    "print(N)"
   ]
  },
  {
   "cell_type": "code",
   "execution_count": 10,
   "metadata": {},
   "outputs": [
    {
     "name": "stdout",
     "output_type": "stream",
     "text": [
      "(6040, 3706)\n"
     ]
    }
   ],
   "source": [
    "A=np.zeros((M,N)) #邻接矩阵A\n",
    "print(A.shape)\n",
    "for _, rating in train_ratings.iterrows():\n",
    "    if(rating.Rating>3):\n",
    "        A[uidx[rating.UserID], midx[rating.MovieID]]=1"
   ]
  },
  {
   "cell_type": "code",
   "execution_count": 11,
   "metadata": {},
   "outputs": [],
   "source": [
    "k_user =A.sum(axis=1)\n",
    "k_movie =A.sum(axis=0)"
   ]
  },
  {
   "cell_type": "code",
   "execution_count": 12,
   "metadata": {},
   "outputs": [
    {
     "name": "stdout",
     "output_type": "stream",
     "text": [
      "[ 40.  67.  31. ...  13.  85. 194.]\n"
     ]
    }
   ],
   "source": [
    "print(k_user)"
   ]
  },
  {
   "cell_type": "code",
   "execution_count": 13,
   "metadata": {},
   "outputs": [
    {
     "name": "stdout",
     "output_type": "stream",
     "text": [
      "(6040, 3706)\n"
     ]
    }
   ],
   "source": [
    "A_test =np.zeros((M,N),dtype=np.int64)\n",
    "print(A.shape)\n",
    "for _, rating in test_ratings.iterrows():\n",
    "    if(rating.Rating>3): #按评分大于3分类\n",
    "        A_test[uidx[rating.UserID], midx[rating.MovieID]]=1"
   ]
  },
  {
   "cell_type": "code",
   "execution_count": 14,
   "metadata": {},
   "outputs": [
    {
     "name": "stdout",
     "output_type": "stream",
     "text": [
      "[[1. 0. 0. ... 0. 0. 0.]\n",
      " [1. 0. 0. ... 0. 0. 0.]\n",
      " [0. 0. 0. ... 0. 0. 0.]\n",
      " ...\n",
      " [0. 0. 0. ... 0. 0. 0.]\n",
      " [0. 0. 1. ... 0. 0. 0.]\n",
      " [1. 0. 0. ... 0. 0. 0.]]\n"
     ]
    },
    {
     "name": "stderr",
     "output_type": "stream",
     "text": [
      "C:\\Users\\ASUS\\anaconda3\\lib\\site-packages\\ipykernel_launcher.py:3: RuntimeWarning: invalid value encountered in true_divide\n",
      "  This is separate from the ipykernel package so we can avoid doing imports until\n"
     ]
    },
    {
     "name": "stdout",
     "output_type": "stream",
     "text": [
      "(3706, 3706) (3706,)\n"
     ]
    },
    {
     "name": "stderr",
     "output_type": "stream",
     "text": [
      "C:\\Users\\ASUS\\anaconda3\\lib\\site-packages\\ipykernel_launcher.py:7: RuntimeWarning: invalid value encountered in true_divide\n",
      "  import sys\n"
     ]
    }
   ],
   "source": [
    "print(A)\n",
    "#W矩阵\n",
    "tmp1=A/k_user.reshape((-1,1)) #reshape(-1,1)转成一列\n",
    "tmp1[np.isnan(tmp1)]=0\n",
    "tmp2=np.dot(tmp1.T,A) #矩阵乘法\n",
    "print(tmp2.shape,k_movie.shape)\n",
    "W=tmp2/k_movie\n",
    "W[np.isnan(W)]=0"
   ]
  },
  {
   "cell_type": "code",
   "execution_count": 15,
   "metadata": {},
   "outputs": [
    {
     "name": "stdout",
     "output_type": "stream",
     "text": [
      "[[0.025      0.         0.         ... 0.         0.         0.        ]\n",
      " [0.01492537 0.         0.         ... 0.         0.         0.        ]\n",
      " [0.         0.         0.         ... 0.         0.         0.        ]\n",
      " ...\n",
      " [0.         0.         0.         ... 0.         0.         0.        ]\n",
      " [0.         0.         0.01176471 ... 0.         0.         0.        ]\n",
      " [0.00515464 0.         0.         ... 0.         0.         0.        ]]\n"
     ]
    }
   ],
   "source": [
    "print(tmp1)"
   ]
  },
  {
   "cell_type": "code",
   "execution_count": 31,
   "metadata": {},
   "outputs": [
    {
     "name": "stdout",
     "output_type": "stream",
     "text": [
      "[[1.77678393e-02 1.66226258e-03 2.19951662e-03 ... 0.00000000e+00\n",
      "  9.25925926e-03 0.00000000e+00]\n",
      " [2.96571078e-04 1.06381538e-02 7.92111449e-04 ... 0.00000000e+00\n",
      "  0.00000000e+00 0.00000000e+00]\n",
      " [7.38016956e-04 1.48969108e-03 1.13172634e-02 ... 0.00000000e+00\n",
      "  0.00000000e+00 0.00000000e+00]\n",
      " ...\n",
      " [0.00000000e+00 0.00000000e+00 0.00000000e+00 ... 0.00000000e+00\n",
      "  0.00000000e+00 0.00000000e+00]\n",
      " [6.79828139e-06 0.00000000e+00 0.00000000e+00 ... 0.00000000e+00\n",
      "  9.25925926e-03 0.00000000e+00]\n",
      " [0.00000000e+00 0.00000000e+00 0.00000000e+00 ... 0.00000000e+00\n",
      "  0.00000000e+00 8.19672131e-03]]\n"
     ]
    }
   ],
   "source": [
    "\n",
    "print(W)\n",
    "        "
   ]
  },
  {
   "cell_type": "code",
   "execution_count": 32,
   "metadata": {},
   "outputs": [
    {
     "name": "stdout",
     "output_type": "stream",
     "text": [
      "(6040, 3706) (6040, 3706) (6040,)\n",
      "[[0.00000000e+00 2.91265076e-02 5.54979691e-02 ... 0.00000000e+00\n",
      "  1.74289024e-04 1.76128238e-05]\n",
      " [0.00000000e+00 2.59956687e-02 6.35886805e-02 ... 0.00000000e+00\n",
      "  1.40395020e-04 5.15501613e-05]\n",
      " [7.64950237e-02 1.27931109e-02 2.34821106e-02 ... 0.00000000e+00\n",
      "  1.55966936e-04 3.27441527e-05]\n",
      " ...\n",
      " [3.59547791e-02 6.25409353e-03 1.71314465e-02 ... 0.00000000e+00\n",
      "  4.83007786e-06 2.19751242e-05]\n",
      " [2.42751792e-01 4.39608394e-02 0.00000000e+00 ... 0.00000000e+00\n",
      "  2.38045622e-04 1.24499704e-04]\n",
      " [0.00000000e+00 8.35755520e-02 1.84366391e-01 ... 0.00000000e+00\n",
      "  1.50224123e-04 5.63494840e-04]]\n"
     ]
    }
   ],
   "source": [
    "F=np.dot(W, A.T).T #F矩阵\n",
    "F[A==1]=0\n",
    "\n",
    "\n",
    "F_sort_index = np.argsort(F,axis=1)\n",
    "F_sort = np.zeros((M, N)) \n",
    "for i in range(M): \n",
    "    for j in range(N):\n",
    "        F_sort[i,F_sort_index[i][j]] = N - j\n",
    "\n",
    "L = N - k_user\n",
    "print(F.shape,F_sort.shape,L.shape)\n",
    "print(F)"
   ]
  },
  {
   "cell_type": "code",
   "execution_count": 30,
   "metadata": {},
   "outputs": [
    {
     "name": "stdout",
     "output_type": "stream",
     "text": [
      "r_avg= 0.00025479968049156365\n"
     ]
    }
   ],
   "source": [
    "r=np.average(F_sort*A_test,axis=1)/L #平均推荐相对位置\n",
    "r_avg=np.average(r)\n",
    "\n",
    "print(\"r_avg=\",r_avg)"
   ]
  },
  {
   "cell_type": "code",
   "execution_count": 25,
   "metadata": {},
   "outputs": [
    {
     "name": "stdout",
     "output_type": "stream",
     "text": [
      "AUC= 0.6529668363358407\n"
     ]
    },
    {
     "data": {
      "image/png": "[encoded data removed]",
      "text/plain": [
       "<Figure size 432x288 with 1 Axes>"
      ]
     },
     "metadata": {
      "needs_background": "light"
     },
     "output_type": "display_data"
    }
   ],
   "source": [
    "#ROC curve\n",
    "T_=np.sum(A_test)#证样本数\n",
    "F_=np.sum(A_test==False)#负样本\n",
    "TPR,FPR=[],[]\n",
    "for threshold in np.arange(0, 1, 0.01): \n",
    "    F_out = F_sort<(N*threshold)\n",
    "    TP = np.sum(A_test & F_out)\n",
    "    FP = np.sum(~A_test & F_out)\n",
    "    TPR.append(TP/T_)\n",
    "    FPR.append(FP/F_)\n",
    "plt.plot(FPR,TPR)\n",
    "plt.xlabel('False Positive Rate')\n",
    "plt.ylabel('True Positive Rate')\n",
    "plt.title('Receiver operating characteristic')\n",
    "AUC=np.sum([tpr*0.01 for tpr in TPR])#roc曲线下面积\n",
    "print(\"AUC=\",AUC)"
   ]
  },
  {
   "cell_type": "code",
   "execution_count": null,
   "metadata": {},
   "outputs": [],
   "source": []
  },
  {
   "cell_type": "code",
   "execution_count": null,
   "metadata": {},
   "outputs": [],
   "source": []
  }
 ],
 "metadata": {
  "kernelspec": {
   "display_name": "Python 3",
   "language": "python",
   "name": "python3"
  },
  "language_info": {
   "codemirror_mode": {
    "name": "ipython",
    "version": 3
   },
   "file_extension": ".py",
   "mimetype": "text/x-python",
   "name": "python",
   "nbconvert_exporter": "python",
   "pygments_lexer": "ipython3",
   "version": "3.7.6"
  }
 },
 "nbformat": 4,
 "nbformat_minor": 4
}
