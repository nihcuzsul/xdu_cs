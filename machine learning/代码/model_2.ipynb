{
 "cells": [
  {
   "cell_type": "code",
   "execution_count": 154,
   "metadata": {},
   "outputs": [],
   "source": [
    "import numpy as np\n",
    "from sklearn.svm import SVC\n",
    "from sklearn.preprocessing import LabelEncoder\n",
    "from sklearn.metrics import accuracy_score"
   ]
  },
  {
   "cell_type": "code",
   "execution_count": 155,
   "metadata": {},
   "outputs": [],
   "source": [
    "path = 'wdbc_train.data'\n",
    "with open(path, 'r') as f:\n",
    "    train_data_ = f.readlines()"
   ]
  },
  {
   "cell_type": "code",
   "execution_count": 157,
   "metadata": {},
   "outputs": [],
   "source": [
    "path = 'wdbc_validation.data'\n",
    "with open(path, 'r') as f:\n",
    "    val_data_ = f.readlines()"
   ]
  },
  {
   "cell_type": "code",
   "execution_count": 158,
   "metadata": {},
   "outputs": [],
   "source": [
    "path = 'wdbc_test.data'\n",
    "with open(path, 'r') as f:\n",
    "    test_data_ = f.readlines()"
   ]
  },
  {
   "cell_type": "code",
   "execution_count": 159,
   "metadata": {},
   "outputs": [],
   "source": [
    "#print(len(train_data_),len(val_data_),len(test_data_))"
   ]
  },
  {
   "cell_type": "code",
   "execution_count": 160,
   "metadata": {},
   "outputs": [],
   "source": [
    "train_x, train_y, val_x, val_y, test_x, test_y = [], [], [], [], [], [] "
   ]
  },
  {
   "cell_type": "code",
   "execution_count": 161,
   "metadata": {},
   "outputs": [],
   "source": [
    "for i in train_data_:\n",
    "    i = i.split(',')\n",
    "    train_x.append([eval(j) for j in i[2:12]])\n",
    "    train_y.append(i[1].strip())\n",
    "    "
   ]
  },
  {
   "cell_type": "code",
   "execution_count": 162,
   "metadata": {},
   "outputs": [],
   "source": [
    "#train_x[:1]"
   ]
  },
  {
   "cell_type": "code",
   "execution_count": 163,
   "metadata": {},
   "outputs": [],
   "source": [
    "#train_y[:5]"
   ]
  },
  {
   "cell_type": "code",
   "execution_count": 164,
   "metadata": {},
   "outputs": [],
   "source": [
    "train_x2, train_y2, val_x2, val_y2, test_x2, test_y2 = [], [], [], [], [], [] "
   ]
  },
  {
   "cell_type": "code",
   "execution_count": 165,
   "metadata": {},
   "outputs": [],
   "source": [
    "for i in train_data_:\n",
    "    i = i.split(',')\n",
    "    train_x2.append([eval(j) for j in i[12:22]])\n",
    "    train_y2.append(i[1].strip())\n",
    "    "
   ]
  },
  {
   "cell_type": "code",
   "execution_count": 166,
   "metadata": {},
   "outputs": [],
   "source": [
    "train_x3, train_y3, val_x3, val_y3, test_x3, test_y3 = [], [], [], [], [], [] "
   ]
  },
  {
   "cell_type": "code",
   "execution_count": 167,
   "metadata": {},
   "outputs": [],
   "source": [
    "for i in train_data_:\n",
    "    i = i.split(',')\n",
    "    train_x3.append([eval(j) for j in i[22:32]])\n",
    "    train_y3.append(i[1].strip())"
   ]
  },
  {
   "cell_type": "code",
   "execution_count": 168,
   "metadata": {},
   "outputs": [],
   "source": [
    "for i in val_data_:\n",
    "    i = i.split(',')\n",
    "    val_x.append([eval(j) for j in i[2:12]])\n",
    "    val_y.append(i[1].strip())"
   ]
  },
  {
   "cell_type": "code",
   "execution_count": 169,
   "metadata": {},
   "outputs": [],
   "source": [
    "for i in val_data_:\n",
    "    i = i.split(',')\n",
    "    val_x2.append([eval(j) for j in i[12:22]])\n",
    "    val_y2.append(i[1].strip())"
   ]
  },
  {
   "cell_type": "code",
   "execution_count": 170,
   "metadata": {},
   "outputs": [],
   "source": [
    "for i in val_data_:\n",
    "    i = i.split(',')\n",
    "    val_x3.append([eval(j) for j in i[22:32]])\n",
    "    val_y3.append(i[1].strip())"
   ]
  },
  {
   "cell_type": "code",
   "execution_count": 171,
   "metadata": {},
   "outputs": [],
   "source": [
    "for i in test_data_:\n",
    "    i = i.split(',')\n",
    "    test_x.append([eval(j) for j in i[2:12]])\n",
    "    test_y.append(i[1].strip())"
   ]
  },
  {
   "cell_type": "code",
   "execution_count": 172,
   "metadata": {},
   "outputs": [],
   "source": [
    "for i in test_data_:\n",
    "    i = i.split(',')\n",
    "    test_x2.append([eval(j) for j in i[12:22]])\n",
    "    test_y2.append(i[1].strip())"
   ]
  },
  {
   "cell_type": "code",
   "execution_count": 173,
   "metadata": {},
   "outputs": [],
   "source": [
    "for i in test_data_:\n",
    "    i = i.split(',')\n",
    "    test_x3.append([eval(j) for j in i[22:32]])\n",
    "    test_y3.append(i[1].strip())"
   ]
  },
  {
   "cell_type": "code",
   "execution_count": 174,
   "metadata": {},
   "outputs": [
    {
     "data": {
      "text/plain": [
       "[[13.4, 20.52, 88.64, 556.7, 0.1106, 0.1469, 0.1445, 0.08172, 0.2116, 0.07325],\n",
       " [13.21,\n",
       "  25.25,\n",
       "  84.1,\n",
       "  537.9,\n",
       "  0.08791,\n",
       "  0.05205,\n",
       "  0.02772,\n",
       "  0.02068,\n",
       "  0.1619,\n",
       "  0.05584]]"
      ]
     },
     "execution_count": 174,
     "metadata": {},
     "output_type": "execute_result"
    }
   ],
   "source": [
    "test_x[:2]"
   ]
  },
  {
   "cell_type": "code",
   "execution_count": 175,
   "metadata": {},
   "outputs": [
    {
     "data": {
      "text/plain": [
       "0.08791"
      ]
     },
     "execution_count": 175,
     "metadata": {},
     "output_type": "execute_result"
    }
   ],
   "source": [
    "test_x[1][4]"
   ]
  },
  {
   "cell_type": "code",
   "execution_count": 176,
   "metadata": {},
   "outputs": [],
   "source": [
    "le = LabelEncoder()\n",
    "train_y_ = le.fit_transform(train_y)\n",
    "train_y2_ = le.fit_transform(train_y2)\n",
    "train_y3_ = le.fit_transform(train_y3)\n",
    "val_y_ = le.fit_transform(val_y)\n",
    "val_y2_ = le.fit_transform(val_y2)\n",
    "val_y3_ = le.fit_transform(val_y3)\n",
    "test_y_ = le.fit_transform(test_y)\n",
    "test_y2_ = le.fit_transform(test_y2)\n",
    "test_y3_ = le.fit_transform(test_y3)"
   ]
  },
  {
   "cell_type": "code",
   "execution_count": 177,
   "metadata": {},
   "outputs": [
    {
     "data": {
      "text/plain": [
       "array([1, 0, 0, 1, 0], dtype=int64)"
      ]
     },
     "execution_count": 177,
     "metadata": {},
     "output_type": "execute_result"
    }
   ],
   "source": [
    "train_y_[:5] #m=1;b=0"
   ]
  },
  {
   "cell_type": "code",
   "execution_count": 178,
   "metadata": {},
   "outputs": [],
   "source": [
    "train_x, train_y_, val_x, val_y_, test_x, test_y_ = np.array(train_x), np.array(train_y_), np.array(val_x), np.array(val_y_), np.array(test_x), np.array(test_y_)  \n",
    "train_x2, train_y2_, val_x2, val_y2_, test_x2, test_y2_ = np.array(train_x2), np.array(train_y2_), np.array(val_x2), np.array(val_y2_), np.array(test_x2), np.array(test_y2_)\n",
    "train_x3, train_y3_, val_x3, val_y3_, test_x3, test_y3_ = np.array(train_x3), np.array(train_y3_), np.array(val_x3), np.array(val_y3_), np.array(test_x3), np.array(test_y3_)"
   ]
  },
  {
   "cell_type": "code",
   "execution_count": 179,
   "metadata": {},
   "outputs": [
    {
     "data": {
      "text/plain": [
       "(341,)"
      ]
     },
     "execution_count": 179,
     "metadata": {},
     "output_type": "execute_result"
    }
   ],
   "source": [
    "train_y2_.shape"
   ]
  },
  {
   "cell_type": "code",
   "execution_count": 180,
   "metadata": {},
   "outputs": [
    {
     "data": {
      "text/plain": [
       "(114, 10)"
      ]
     },
     "execution_count": 180,
     "metadata": {},
     "output_type": "execute_result"
    }
   ],
   "source": [
    "val_x.shape"
   ]
  },
  {
   "cell_type": "code",
   "execution_count": 181,
   "metadata": {},
   "outputs": [],
   "source": [
    "train_xn = np.vstack((train_x,train_x2,train_x3))"
   ]
  },
  {
   "cell_type": "code",
   "execution_count": 182,
   "metadata": {},
   "outputs": [
    {
     "data": {
      "text/plain": [
       "(1023, 10)"
      ]
     },
     "execution_count": 182,
     "metadata": {},
     "output_type": "execute_result"
    }
   ],
   "source": [
    "train_xn.shape"
   ]
  },
  {
   "cell_type": "code",
   "execution_count": 183,
   "metadata": {},
   "outputs": [],
   "source": [
    "train_yn_=np.concatenate((train_y_,train_y2_,train_y3_), axis=0)"
   ]
  },
  {
   "cell_type": "code",
   "execution_count": 184,
   "metadata": {},
   "outputs": [
    {
     "data": {
      "text/plain": [
       "(1023,)"
      ]
     },
     "execution_count": 184,
     "metadata": {},
     "output_type": "execute_result"
    }
   ],
   "source": [
    "train_yn_.shape"
   ]
  },
  {
   "cell_type": "code",
   "execution_count": 185,
   "metadata": {},
   "outputs": [],
   "source": [
    "val_xn = np.vstack((val_x,val_x2,val_x3))\n",
    "test_xn = np.vstack((test_x,test_x2,test_x3))"
   ]
  },
  {
   "cell_type": "code",
   "execution_count": 186,
   "metadata": {},
   "outputs": [
    {
     "data": {
      "text/plain": [
       "(342, 10)"
      ]
     },
     "execution_count": 186,
     "metadata": {},
     "output_type": "execute_result"
    }
   ],
   "source": [
    "val_xn.shape"
   ]
  },
  {
   "cell_type": "code",
   "execution_count": 187,
   "metadata": {},
   "outputs": [],
   "source": [
    "val_yn_=np.concatenate((val_y_,val_y2_,val_y3_), axis=0)\n",
    "test_yn_=np.concatenate((test_y_,test_y2_,test_y3_), axis=0)"
   ]
  },
  {
   "cell_type": "code",
   "execution_count": 188,
   "metadata": {
    "scrolled": true
   },
   "outputs": [
    {
     "data": {
      "text/plain": [
       "(342,)"
      ]
     },
     "execution_count": 188,
     "metadata": {},
     "output_type": "execute_result"
    }
   ],
   "source": [
    "test_yn_.shape"
   ]
  },
  {
   "cell_type": "code",
   "execution_count": 189,
   "metadata": {},
   "outputs": [],
   "source": [
    "from sklearn.preprocessing import StandardScaler \n",
    "from sklearn.preprocessing import MinMaxScaler\n",
    "\n",
    "\n"
   ]
  },
  {
   "cell_type": "code",
   "execution_count": 284,
   "metadata": {},
   "outputs": [],
   "source": [
    "scaler = StandardScaler()\n",
    "train_x = scaler.fit_transform(train_x)\n",
    "val_x = scaler.transform(val_x)\n",
    "test_x = scaler.transform(test_x)"
   ]
  },
  {
   "cell_type": "code",
   "execution_count": 190,
   "metadata": {},
   "outputs": [],
   "source": [
    "from sklearn import metrics"
   ]
  },
  {
   "cell_type": "code",
   "execution_count": 191,
   "metadata": {},
   "outputs": [],
   "source": [
    "from sklearn.cluster import KMeans"
   ]
  },
  {
   "cell_type": "code",
   "execution_count": 280,
   "metadata": {},
   "outputs": [],
   "source": [
    "min_max_scaler = MinMaxScaler()\n",
    "train_x = min_max_scaler.fit_transform(train_x)\n",
    "val_x = min_max_scaler.transform(val_x)\n",
    "test_x = min_max_scaler.transform(test_x)"
   ]
  },
  {
   "cell_type": "code",
   "execution_count": 300,
   "metadata": {},
   "outputs": [],
   "source": [
    "model=KMeans(n_clusters=2)\n",
    "model.fit_predict(train_x)\n",
    "val_pred = model.predict(val_x)\n",
    "test_pred =model.predict(test_x)\n"
   ]
  },
  {
   "cell_type": "code",
   "execution_count": 301,
   "metadata": {},
   "outputs": [
    {
     "data": {
      "text/plain": [
       "0.5947112407649916"
      ]
     },
     "execution_count": 301,
     "metadata": {},
     "output_type": "execute_result"
    }
   ],
   "source": [
    "metrics.normalized_mutual_info_score(val_pred,val_y_)"
   ]
  },
  {
   "cell_type": "code",
   "execution_count": 302,
   "metadata": {},
   "outputs": [
    {
     "data": {
      "text/plain": [
       "0.574541498227771"
      ]
     },
     "execution_count": 302,
     "metadata": {},
     "output_type": "execute_result"
    }
   ],
   "source": [
    "metrics.normalized_mutual_info_score(test_pred,test_y_)"
   ]
  },
  {
   "cell_type": "code",
   "execution_count": null,
   "metadata": {},
   "outputs": [],
   "source": []
  },
  {
   "cell_type": "code",
   "execution_count": null,
   "metadata": {},
   "outputs": [],
   "source": []
  },
  {
   "cell_type": "code",
   "execution_count": null,
   "metadata": {},
   "outputs": [],
   "source": []
  }
 ],
 "metadata": {
  "kernelspec": {
   "display_name": "Python 3",
   "language": "python",
   "name": "python3"
  },
  "language_info": {
   "codemirror_mode": {
    "name": "ipython",
    "version": 3
   },
   "file_extension": ".py",
   "mimetype": "text/x-python",
   "name": "python",
   "nbconvert_exporter": "python",
   "pygments_lexer": "ipython3",
   "version": "3.7.6"
  }
 },
 "nbformat": 4,
 "nbformat_minor": 4
}
